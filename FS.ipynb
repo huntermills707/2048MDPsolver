{
 "cells": [
  {
   "cell_type": "code",
   "execution_count": 1,
   "metadata": {},
   "outputs": [
    {
     "name": "stderr",
     "output_type": "stream",
     "text": [
      "WARNING: Method definition ==(Base"
     ]
    }
   ],
   "source": [
    "using CSV\n",
    "using DataFrames"
   ]
  },
  {
   "cell_type": "code",
   "execution_count": 2,
   "metadata": {},
   "outputs": [
    {
     "name": "stderr",
     "output_type": "stream",
     "text": [
      ".Nullable{S}, Base"
     ]
    },
    {
     "data": {
      "text/plain": [
       "greedyMove (generic function with 1 method)"
      ]
     },
     "execution_count": 2,
     "metadata": {},
     "output_type": "execute_result"
    },
    {
     "name": "stderr",
     "output_type": "stream",
     "text": [
      ".Nullable{T})"
     ]
    }
   ],
   "source": [
    "include(\"bitboard.jl\")"
   ]
  },
  {
   "cell_type": "code",
   "execution_count": 3,
   "metadata": {},
   "outputs": [
    {
     "name": "stderr",
     "output_type": "stream",
     "text": [
      " in module Base at nullable.jl:238 overwritten in module NullableArrays at C:\\Users\\hunte\\.julia\\v0.6\\NullableArrays\\src\\operators.jl:99.\n"
     ]
    }
   ],
   "source": [
    "rowLeftTable, rowRightTable, scoreTable, squareTable, mono1Table, mono2Table = initTables();"
   ]
  },
  {
   "cell_type": "code",
   "execution_count": 10,
   "metadata": {},
   "outputs": [
    {
     "data": {
      "text/plain": [
       "selectActions (generic function with 1 method)"
      ]
     },
     "execution_count": 10,
     "metadata": {},
     "output_type": "execute_result"
    }
   ],
   "source": [
    "function selectActions(board::UInt64,d,γ)\n",
    "    if d == 0\n",
    "        return (-1,0)\n",
    "    end\n",
    "    astar, vstar, v = (-1, -1000000, -1000000)\n",
    "    for a in randperm(4)\n",
    "        pboard = executeMove(a-1,board)\n",
    "        if pboard != board\n",
    "            v = scoreBoard(pboard)\n",
    "            num = countEmpty(pboard)\n",
    "            for i in 1:num\n",
    "                cboard = insertTile(pboard,UInt64(1),i)\n",
    "                ap,vp = selectActions(cboard,d-1,γ)\n",
    "                v += γ*.9*vp/(2*num)\n",
    "\n",
    "                cboard = insertTile(pboard,UInt64(2),i)\n",
    "                ap,vp = selectActions(cboard,d-1,γ)\n",
    "                v += γ*.1*vp/(2*num)\n",
    "            end\n",
    "        end\n",
    "        if v > vstar\n",
    "            astar, vstar = a, v\n",
    "        end\n",
    "    end\n",
    "    return (astar-1, vstar)\n",
    "end"
   ]
  },
  {
   "cell_type": "code",
   "execution_count": 17,
   "metadata": {},
   "outputs": [
    {
     "data": {
      "text/plain": [
       "FS (generic function with 1 method)"
      ]
     },
     "execution_count": 17,
     "metadata": {},
     "output_type": "execute_result"
    }
   ],
   "source": [
    "function FS(board::UInt64)\n",
    "    ap,vp = selectActions(board,3,.9)\n",
    "    return ap\n",
    "end"
   ]
  },
  {
   "cell_type": "code",
   "execution_count": null,
   "metadata": {},
   "outputs": [
    {
     "name": "stdout",
     "output_type": "stream",
     "text": [
      "elapsed time: 40.529916525 seconds\n",
      "elapsed time: 51.331009707 seconds\n",
      "elapsed time: 46.129566518 seconds\n",
      "elapsed time: 32.445978248 seconds\n",
      "elapsed time: 29.425582196 seconds\n",
      "elapsed time: 38.731461973 seconds\n",
      "elapsed time: 54.402175856 seconds\n",
      "elapsed time: 34.300689965 seconds\n",
      "elapsed time: 38.170312429 seconds\n",
      "elapsed time: 51.011062642 seconds\n",
      "elapsed time: 34.861467499 seconds\n",
      "elapsed time: 46.162398301 seconds\n",
      "elapsed time: 48.306238036 seconds\n",
      "elapsed time: 53.127078455 seconds\n",
      "elapsed time: 40.692621602 seconds\n",
      "elapsed time: 47.464150347 seconds\n",
      "elapsed time: 45.484152174 seconds\n"
     ]
    }
   ],
   "source": [
    "tic()\n",
    "n = 100\n",
    "s = zeros(n,2)\n",
    "for i in 1:n\n",
    "    tic()\n",
    "    val, score, turns = runGame(FS, false)\n",
    "    s[i,1] = val\n",
    "    s[i,2] = score\n",
    "    toc()\n",
    "end\n",
    "toc()\n",
    "println(mean(s[:,2]))\n",
    "println(std(s[:,2]))\n",
    "\n",
    "s = convert(DataFrame, s)\n",
    "CSV.write(\"forwardSearch3-2.csv\", s)"
   ]
  },
  {
   "cell_type": "code",
   "execution_count": null,
   "metadata": {
    "collapsed": true
   },
   "outputs": [],
   "source": []
  }
 ],
 "metadata": {
  "kernelspec": {
   "display_name": "Julia 0.6.0",
   "language": "julia",
   "name": "julia-0.6"
  },
  "language_info": {
   "file_extension": ".jl",
   "mimetype": "application/julia",
   "name": "julia",
   "version": "0.6.0"
  }
 },
 "nbformat": 4,
 "nbformat_minor": 2
}
